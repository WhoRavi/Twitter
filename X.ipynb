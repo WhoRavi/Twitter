{
 "cells": [
  {
   "cell_type": "markdown",
   "id": "f5d2283d",
   "metadata": {},
   "source": [
    "# Twitter Post Bot - Minimal Implementation\n",
    "\n",
    "This notebook contains minimal code for posting tweets using the Twitter API v2."
   ]
  },
  {
   "cell_type": "code",
   "execution_count": null,
   "id": "246df866",
   "metadata": {},
   "outputs": [],
   "source": [
    "import tweepy\n",
    "import os\n",
    "from dotenv import load_dotenv\n",
    "\n",
    "# Load environment variables\n",
    "load_dotenv()\n",
    "\n",
    "# Twitter API credentials\n",
    "BEARER_TOKEN = os.getenv('BEARER_TOKEN')\n",
    "API_KEY = os.getenv('API_KEY')\n",
    "API_SECRET = os.getenv('API_SECRET')\n",
    "ACCESS_TOKEN = os.getenv('ACCESS_TOKEN')\n",
    "ACCESS_TOKEN_SECRET = os.getenv('ACCESS_TOKEN_SECRET')"
   ]
  },
  {
   "cell_type": "code",
   "execution_count": null,
   "id": "99707c4e",
   "metadata": {},
   "outputs": [],
   "source": [
    "# Initialize Twitter API client\n",
    "client = tweepy.Client(\n",
    "    bearer_token=BEARER_TOKEN,\n",
    "    consumer_key=API_KEY,\n",
    "    consumer_secret=API_SECRET,\n",
    "    access_token=ACCESS_TOKEN,\n",
    "    access_token_secret=ACCESS_TOKEN_SECRET,\n",
    "    wait_on_rate_limit=True\n",
    ")"
   ]
  },
  {
   "cell_type": "code",
   "execution_count": null,
   "id": "eaf1917b",
   "metadata": {},
   "outputs": [],
   "source": [
    "def post_tweet(text):\n",
    "    \"\"\"Post a tweet with the given text\"\"\"\n",
    "    try:\n",
    "        response = client.create_tweet(text=text)\n",
    "        print(f\"✅ Tweet posted! ID: {response.data['id']}\")\n",
    "        return response.data\n",
    "    except Exception as e:\n",
    "        print(f\"❌ Error: {e}\")\n",
    "        return None"
   ]
  },
  {
   "cell_type": "code",
   "execution_count": null,
   "id": "ff1497ca",
   "metadata": {},
   "outputs": [],
   "source": [
    "# Example usage\n",
    "tweet_text = \"Hello Twitter! 🐦 This is a test tweet from Python!\"\n",
    "post_tweet(tweet_text)"
   ]
  }
 ],
 "metadata": {
  "kernelspec": {
   "display_name": "Python 3",
   "language": "python",
   "name": "python3"
  },
  "language_info": {
   "codemirror_mode": {
    "name": "ipython",
    "version": 3
   },
   "file_extension": ".py",
   "mimetype": "text/x-python",
   "name": "python",
   "nbconvert_exporter": "python",
   "pygments_lexer": "ipython3",
   "version": "3.13.7"
  }
 },
 "nbformat": 4,
 "nbformat_minor": 5
}
